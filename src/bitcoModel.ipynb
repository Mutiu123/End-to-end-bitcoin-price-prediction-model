{
 "cells": [
  {
   "cell_type": "code",
   "execution_count": 38,
   "metadata": {},
   "outputs": [],
   "source": [
    "import tensorflow as tf\n",
    "import numpy as np\n",
    "import pandas as pd\n",
    "import yfinance as yf\n",
    "from matplotlib import pyplot as plt\n",
    "from keras.layers import LSTM, Dense, Dropout, Masking\n",
    "from keras.models import Sequential\n",
    "from sklearn.preprocessing import MinMaxScaler\n",
    "from keras.callbacks import ModelCheckpoint, EarlyStopping"
   ]
  },
  {
   "cell_type": "code",
   "execution_count": 39,
   "metadata": {},
   "outputs": [
    {
     "name": "stdout",
     "output_type": "stream",
     "text": [
      "[PhysicalDevice(name='/physical_device:GPU:0', device_type='GPU')]\n"
     ]
    }
   ],
   "source": [
    "print(tf.config.list_physical_devices('GPU'))"
   ]
  },
  {
   "cell_type": "code",
   "execution_count": 40,
   "metadata": {},
   "outputs": [
    {
     "name": "stderr",
     "output_type": "stream",
     "text": [
      "[*********************100%%**********************]  1 of 1 completed\n"
     ]
    }
   ],
   "source": [
    "# Download bitcoin price data\n",
    "data = yf.download('BTC-USD', '2014-06-20', '2024-06-20')"
   ]
  },
  {
   "cell_type": "code",
   "execution_count": 41,
   "metadata": {},
   "outputs": [
    {
     "data": {
      "text/html": [
       "<div>\n",
       "<style scoped>\n",
       "    .dataframe tbody tr th:only-of-type {\n",
       "        vertical-align: middle;\n",
       "    }\n",
       "\n",
       "    .dataframe tbody tr th {\n",
       "        vertical-align: top;\n",
       "    }\n",
       "\n",
       "    .dataframe thead th {\n",
       "        text-align: right;\n",
       "    }\n",
       "</style>\n",
       "<table border=\"1\" class=\"dataframe\">\n",
       "  <thead>\n",
       "    <tr style=\"text-align: right;\">\n",
       "      <th></th>\n",
       "      <th>Open</th>\n",
       "      <th>High</th>\n",
       "      <th>Low</th>\n",
       "      <th>Close</th>\n",
       "      <th>Adj Close</th>\n",
       "      <th>Volume</th>\n",
       "    </tr>\n",
       "    <tr>\n",
       "      <th>Date</th>\n",
       "      <th></th>\n",
       "      <th></th>\n",
       "      <th></th>\n",
       "      <th></th>\n",
       "      <th></th>\n",
       "      <th></th>\n",
       "    </tr>\n",
       "  </thead>\n",
       "  <tbody>\n",
       "    <tr>\n",
       "      <th>2014-09-17</th>\n",
       "      <td>465.864014</td>\n",
       "      <td>468.174011</td>\n",
       "      <td>452.421997</td>\n",
       "      <td>457.334015</td>\n",
       "      <td>457.334015</td>\n",
       "      <td>21056800</td>\n",
       "    </tr>\n",
       "    <tr>\n",
       "      <th>2014-09-18</th>\n",
       "      <td>456.859985</td>\n",
       "      <td>456.859985</td>\n",
       "      <td>413.104004</td>\n",
       "      <td>424.440002</td>\n",
       "      <td>424.440002</td>\n",
       "      <td>34483200</td>\n",
       "    </tr>\n",
       "    <tr>\n",
       "      <th>2014-09-19</th>\n",
       "      <td>424.102997</td>\n",
       "      <td>427.834991</td>\n",
       "      <td>384.532013</td>\n",
       "      <td>394.795990</td>\n",
       "      <td>394.795990</td>\n",
       "      <td>37919700</td>\n",
       "    </tr>\n",
       "    <tr>\n",
       "      <th>2014-09-20</th>\n",
       "      <td>394.673004</td>\n",
       "      <td>423.295990</td>\n",
       "      <td>389.882996</td>\n",
       "      <td>408.903992</td>\n",
       "      <td>408.903992</td>\n",
       "      <td>36863600</td>\n",
       "    </tr>\n",
       "    <tr>\n",
       "      <th>2014-09-21</th>\n",
       "      <td>408.084991</td>\n",
       "      <td>412.425995</td>\n",
       "      <td>393.181000</td>\n",
       "      <td>398.821014</td>\n",
       "      <td>398.821014</td>\n",
       "      <td>26580100</td>\n",
       "    </tr>\n",
       "    <tr>\n",
       "      <th>...</th>\n",
       "      <td>...</td>\n",
       "      <td>...</td>\n",
       "      <td>...</td>\n",
       "      <td>...</td>\n",
       "      <td>...</td>\n",
       "      <td>...</td>\n",
       "    </tr>\n",
       "    <tr>\n",
       "      <th>2024-06-15</th>\n",
       "      <td>66006.742188</td>\n",
       "      <td>66402.187500</td>\n",
       "      <td>65871.773438</td>\n",
       "      <td>66191.000000</td>\n",
       "      <td>66191.000000</td>\n",
       "      <td>14121265576</td>\n",
       "    </tr>\n",
       "    <tr>\n",
       "      <th>2024-06-16</th>\n",
       "      <td>66189.359375</td>\n",
       "      <td>66894.843750</td>\n",
       "      <td>66018.250000</td>\n",
       "      <td>66639.046875</td>\n",
       "      <td>66639.046875</td>\n",
       "      <td>13281140541</td>\n",
       "    </tr>\n",
       "    <tr>\n",
       "      <th>2024-06-17</th>\n",
       "      <td>66636.515625</td>\n",
       "      <td>67188.320312</td>\n",
       "      <td>65094.964844</td>\n",
       "      <td>66490.296875</td>\n",
       "      <td>66490.296875</td>\n",
       "      <td>30006354476</td>\n",
       "    </tr>\n",
       "    <tr>\n",
       "      <th>2024-06-18</th>\n",
       "      <td>66490.976562</td>\n",
       "      <td>66556.703125</td>\n",
       "      <td>64066.957031</td>\n",
       "      <td>65140.746094</td>\n",
       "      <td>65140.746094</td>\n",
       "      <td>39481285950</td>\n",
       "    </tr>\n",
       "    <tr>\n",
       "      <th>2024-06-19</th>\n",
       "      <td>65146.660156</td>\n",
       "      <td>65695.351562</td>\n",
       "      <td>64693.300781</td>\n",
       "      <td>64960.296875</td>\n",
       "      <td>64960.296875</td>\n",
       "      <td>21103423504</td>\n",
       "    </tr>\n",
       "  </tbody>\n",
       "</table>\n",
       "<p>3564 rows × 6 columns</p>\n",
       "</div>"
      ],
      "text/plain": [
       "                    Open          High           Low         Close  \\\n",
       "Date                                                                 \n",
       "2014-09-17    465.864014    468.174011    452.421997    457.334015   \n",
       "2014-09-18    456.859985    456.859985    413.104004    424.440002   \n",
       "2014-09-19    424.102997    427.834991    384.532013    394.795990   \n",
       "2014-09-20    394.673004    423.295990    389.882996    408.903992   \n",
       "2014-09-21    408.084991    412.425995    393.181000    398.821014   \n",
       "...                  ...           ...           ...           ...   \n",
       "2024-06-15  66006.742188  66402.187500  65871.773438  66191.000000   \n",
       "2024-06-16  66189.359375  66894.843750  66018.250000  66639.046875   \n",
       "2024-06-17  66636.515625  67188.320312  65094.964844  66490.296875   \n",
       "2024-06-18  66490.976562  66556.703125  64066.957031  65140.746094   \n",
       "2024-06-19  65146.660156  65695.351562  64693.300781  64960.296875   \n",
       "\n",
       "               Adj Close       Volume  \n",
       "Date                                   \n",
       "2014-09-17    457.334015     21056800  \n",
       "2014-09-18    424.440002     34483200  \n",
       "2014-09-19    394.795990     37919700  \n",
       "2014-09-20    408.903992     36863600  \n",
       "2014-09-21    398.821014     26580100  \n",
       "...                  ...          ...  \n",
       "2024-06-15  66191.000000  14121265576  \n",
       "2024-06-16  66639.046875  13281140541  \n",
       "2024-06-17  66490.296875  30006354476  \n",
       "2024-06-18  65140.746094  39481285950  \n",
       "2024-06-19  64960.296875  21103423504  \n",
       "\n",
       "[3564 rows x 6 columns]"
      ]
     },
     "execution_count": 41,
     "metadata": {},
     "output_type": "execute_result"
    }
   ],
   "source": [
    "data"
   ]
  },
  {
   "cell_type": "code",
   "execution_count": 42,
   "metadata": {},
   "outputs": [],
   "source": [
    "# Convert the downloaded data into a pandas DataFrame\n",
    "data = pd.DataFrame(data)\n",
    "# Reset the index of the DataFrame (making the date column an actual column)\n",
    "data.reset_index(inplace=True)\n",
    "# Drop unnecessary columns: 'Date', 'Open', 'High', 'Low', 'Adj Close', and 'Volume'\n",
    "data.drop(columns=['Date', 'Open', 'High', 'Low', 'Adj Close', 'Volume'], inplace=True)\n"
   ]
  },
  {
   "cell_type": "code",
   "execution_count": 43,
   "metadata": {},
   "outputs": [
    {
     "data": {
      "image/png": "[encoded data removed]",
      "text/plain": [
       "<Figure size 1000x800 with 1 Axes>"
      ]
     },
     "metadata": {},
     "output_type": "display_data"
    }
   ],
   "source": [
    "# Visualize the data\n",
    "plt.figure(figsize=(10, 8))\n",
    "plt.plot(data)\n",
    "# Display the figure for a few seconds (e.g., 3 seconds)\n",
    "plt.show(block=False)\n",
    "plt.pause(5)  # Pause for 5 seconds\n",
    "plt.close()  # Close the figure"
   ]
  },
  {
   "cell_type": "code",
   "execution_count": 44,
   "metadata": {},
   "outputs": [],
   "source": [
    "# Split the data into training and testing data\n",
    "train_data = data[:-200]\n",
    "test_data = data[-200:]"
   ]
  },
  {
   "cell_type": "code",
   "execution_count": 45,
   "metadata": {},
   "outputs": [
    {
     "data": {
      "text/plain": [
       "(3364, 1)"
      ]
     },
     "execution_count": 45,
     "metadata": {},
     "output_type": "execute_result"
    }
   ],
   "source": [
    "train_data.shape"
   ]
  },
  {
   "cell_type": "code",
   "execution_count": 46,
   "metadata": {},
   "outputs": [
    {
     "data": {
      "text/plain": [
       "(200, 1)"
      ]
     },
     "execution_count": 46,
     "metadata": {},
     "output_type": "execute_result"
    }
   ],
   "source": [
    "test_data.shape"
   ]
  },
  {
   "cell_type": "code",
   "execution_count": 47,
   "metadata": {},
   "outputs": [],
   "source": [
    "# Scale training data into the range [0, 1]\n",
    "scaler = MinMaxScaler(feature_range=(0, 1))\n",
    "train_data_scale = scaler.fit_transform(train_data)"
   ]
  },
  {
   "cell_type": "code",
   "execution_count": 48,
   "metadata": {},
   "outputs": [],
   "source": [
    "# Number of previous days to use for prediction\n",
    "base_days = 100"
   ]
  },
  {
   "cell_type": "code",
   "execution_count": 49,
   "metadata": {},
   "outputs": [],
   "source": [
    "# Create input sequences (x) and corresponding target values (y)\n",
    "x = []\n",
    "y = []\n",
    "\n",
    "for i in range(base_days, train_data_scale.shape[0]):\n",
    "    x.append(train_data_scale[i - base_days:i])\n",
    "    y.append(train_data_scale[i, 0])"
   ]
  },
  {
   "cell_type": "code",
   "execution_count": 50,
   "metadata": {},
   "outputs": [],
   "source": [
    "# Convert arrays to numpy arrays\n",
    "x, y = np.array(x), np.array(y)"
   ]
  },
  {
   "cell_type": "code",
   "execution_count": 51,
   "metadata": {},
   "outputs": [],
   "source": [
    "# Reshape input data to match LSTM input shape\n",
    "x = np.reshape(x, (x.shape[0],x.shape[1],1))"
   ]
  },
  {
   "cell_type": "code",
   "execution_count": 52,
   "metadata": {},
   "outputs": [
    {
     "name": "stdout",
     "output_type": "stream",
     "text": [
      "WARNING:tensorflow:Layer lstm_8 will not use cuDNN kernels since it doesn't meet the criteria. It will use a generic GPU kernel as fallback when running on GPU.\n",
      "WARNING:tensorflow:Layer lstm_9 will not use cuDNN kernels since it doesn't meet the criteria. It will use a generic GPU kernel as fallback when running on GPU.\n",
      "WARNING:tensorflow:Layer lstm_10 will not use cuDNN kernels since it doesn't meet the criteria. It will use a generic GPU kernel as fallback when running on GPU.\n",
      "WARNING:tensorflow:Layer lstm_11 will not use cuDNN kernels since it doesn't meet the criteria. It will use a generic GPU kernel as fallback when running on GPU.\n"
     ]
    }
   ],
   "source": [
    "# Build the LSTM model\n",
    "model = Sequential()\n",
    "model.add(LSTM(64, activation='relu', return_sequences=True, input_shape=(x.shape[1], 1)))\n",
    "model.add(Dropout(0.2))\n",
    "model.add(LSTM(64, activation='relu', return_sequences=True))\n",
    "model.add(Dropout(0.3))\n",
    "model.add(LSTM(64, activation='relu', return_sequences=True))\n",
    "model.add(Dropout(0.4))\n",
    "model.add(LSTM(64, activation='relu'))\n",
    "model.add(Dropout(0.5))\n",
    "model.add(Dense(units=1))"
   ]
  },
  {
   "cell_type": "code",
   "execution_count": 53,
   "metadata": {},
   "outputs": [
    {
     "name": "stdout",
     "output_type": "stream",
     "text": [
      "Model: \"sequential_2\"\n",
      "_________________________________________________________________\n",
      " Layer (type)                Output Shape              Param #   \n",
      "=================================================================\n",
      " lstm_8 (LSTM)               (None, 100, 64)           16896     \n",
      "                                                                 \n",
      " dropout_8 (Dropout)         (None, 100, 64)           0         \n",
      "                                                                 \n",
      " lstm_9 (LSTM)               (None, 100, 64)           33024     \n",
      "                                                                 \n",
      " dropout_9 (Dropout)         (None, 100, 64)           0         \n",
      "                                                                 \n",
      " lstm_10 (LSTM)              (None, 100, 64)           33024     \n",
      "                                                                 \n",
      " dropout_10 (Dropout)        (None, 100, 64)           0         \n",
      "                                                                 \n",
      " lstm_11 (LSTM)              (None, 64)                33024     \n",
      "                                                                 \n",
      " dropout_11 (Dropout)        (None, 64)                0         \n",
      "                                                                 \n",
      " dense_2 (Dense)             (None, 1)                 65        \n",
      "                                                                 \n",
      "=================================================================\n",
      "Total params: 116,033\n",
      "Trainable params: 116,033\n",
      "Non-trainable params: 0\n",
      "_________________________________________________________________\n"
     ]
    }
   ],
   "source": [
    "model.summary()"
   ]
  },
  {
   "cell_type": "code",
   "execution_count": 54,
   "metadata": {},
   "outputs": [],
   "source": [
    "# Compile the model\n",
    "model.compile(optimizer='adam', loss='mean_squared_error', metrics=['mae'])"
   ]
  },
  {
   "cell_type": "code",
   "execution_count": 55,
   "metadata": {},
   "outputs": [],
   "source": [
    "# Add callbacks for monitoring loss, saving the best model, and early stopping\n",
    "callbacks = [\n",
    "    ModelCheckpoint(filepath='../model/best_model.keras', monitor='val_loss', save_best_only=True, save_weights_only=True),\n",
    "    EarlyStopping(monitor='val_loss', patience=5, restore_best_weights=True)\n",
    "]"
   ]
  },
  {
   "cell_type": "code",
   "execution_count": 56,
   "metadata": {},
   "outputs": [
    {
     "name": "stdout",
     "output_type": "stream",
     "text": [
      "Epoch 1/60\n",
      "92/92 [==============================] - 134s 1s/step - loss: 0.0246 - mae: 0.0980 - val_loss: 0.0082 - val_mae: 0.0847\n",
      "Epoch 2/60\n",
      "92/92 [==============================] - 129s 1s/step - loss: 0.0067 - mae: 0.0493 - val_loss: 0.0020 - val_mae: 0.0350\n",
      "Epoch 3/60\n",
      "92/92 [==============================] - 129s 1s/step - loss: 0.0057 - mae: 0.0433 - val_loss: 0.0014 - val_mae: 0.0276\n",
      "Epoch 4/60\n",
      "92/92 [==============================] - 125s 1s/step - loss: 0.0049 - mae: 0.0396 - val_loss: 0.0035 - val_mae: 0.0518\n",
      "Epoch 5/60\n",
      "92/92 [==============================] - 122s 1s/step - loss: 0.0050 - mae: 0.0413 - val_loss: 9.5270e-04 - val_mae: 0.0256\n",
      "Epoch 6/60\n",
      "92/92 [==============================] - 122s 1s/step - loss: 0.0050 - mae: 0.0402 - val_loss: 0.0035 - val_mae: 0.0527\n",
      "Epoch 7/60\n",
      "92/92 [==============================] - 129s 1s/step - loss: 0.0047 - mae: 0.0387 - val_loss: 9.9119e-04 - val_mae: 0.0265\n",
      "Epoch 8/60\n",
      "92/92 [==============================] - 118s 1s/step - loss: 0.0042 - mae: 0.0370 - val_loss: 0.0010 - val_mae: 0.0269\n",
      "Epoch 9/60\n",
      "92/92 [==============================] - 125s 1s/step - loss: 0.0041 - mae: 0.0384 - val_loss: 0.0031 - val_mae: 0.0484\n",
      "Epoch 10/60\n",
      "92/92 [==============================] - 124s 1s/step - loss: 0.0038 - mae: 0.0374 - val_loss: 7.8163e-04 - val_mae: 0.0209\n",
      "Epoch 11/60\n",
      "92/92 [==============================] - 126s 1s/step - loss: 0.0040 - mae: 0.0378 - val_loss: 7.8767e-04 - val_mae: 0.0229\n",
      "Epoch 12/60\n",
      "92/92 [==============================] - 121s 1s/step - loss: 0.0037 - mae: 0.0368 - val_loss: 7.5446e-04 - val_mae: 0.0222\n",
      "Epoch 13/60\n",
      "92/92 [==============================] - 116s 1s/step - loss: 0.0038 - mae: 0.0376 - val_loss: 0.0027 - val_mae: 0.0453\n",
      "Epoch 14/60\n",
      "92/92 [==============================] - 120s 1s/step - loss: 0.0036 - mae: 0.0372 - val_loss: 7.1842e-04 - val_mae: 0.0190\n",
      "Epoch 15/60\n",
      "92/92 [==============================] - 120s 1s/step - loss: 0.0037 - mae: 0.0364 - val_loss: 7.8981e-04 - val_mae: 0.0237\n",
      "Epoch 16/60\n",
      "92/92 [==============================] - 120s 1s/step - loss: 0.0041 - mae: 0.0404 - val_loss: 7.4111e-04 - val_mae: 0.0228\n",
      "Epoch 17/60\n",
      "92/92 [==============================] - 116s 1s/step - loss: 0.0039 - mae: 0.0384 - val_loss: 0.0011 - val_mae: 0.0265\n",
      "Epoch 18/60\n",
      "92/92 [==============================] - 114s 1s/step - loss: 0.0036 - mae: 0.0377 - val_loss: 5.8083e-04 - val_mae: 0.0174\n",
      "Epoch 19/60\n",
      "92/92 [==============================] - 120s 1s/step - loss: 0.0034 - mae: 0.0362 - val_loss: 8.4803e-04 - val_mae: 0.0212\n",
      "Epoch 20/60\n",
      "92/92 [==============================] - 117s 1s/step - loss: 0.0035 - mae: 0.0367 - val_loss: 6.1358e-04 - val_mae: 0.0205\n",
      "Epoch 21/60\n",
      "92/92 [==============================] - 117s 1s/step - loss: 0.0035 - mae: 0.0378 - val_loss: 6.3618e-04 - val_mae: 0.0181\n",
      "Epoch 22/60\n",
      "92/92 [==============================] - 117s 1s/step - loss: 0.0031 - mae: 0.0357 - val_loss: 0.0011 - val_mae: 0.0274\n",
      "Epoch 23/60\n",
      "92/92 [==============================] - 116s 1s/step - loss: 0.0032 - mae: 0.0360 - val_loss: 0.0012 - val_mae: 0.0289\n"
     ]
    },
    {
     "data": {
      "text/plain": [
       "<keras.callbacks.History at 0x294d07f5930>"
      ]
     },
     "execution_count": 56,
     "metadata": {},
     "output_type": "execute_result"
    }
   ],
   "source": [
    "# Train the model\n",
    "model.fit(x, y, epochs=60, verbose=1, validation_split=0.1, callbacks=callbacks)"
   ]
  },
  {
   "cell_type": "code",
   "execution_count": 84,
   "metadata": {},
   "outputs": [],
   "source": [
    "model.save('../model/BitcoinPricePrediction.keras')"
   ]
  },
  {
   "cell_type": "code",
   "execution_count": 57,
   "metadata": {},
   "outputs": [],
   "source": [
    "test_data = pd.concat((train_data.tail(100), test_data), ignore_index=True)"
   ]
  },
  {
   "cell_type": "code",
   "execution_count": 59,
   "metadata": {},
   "outputs": [],
   "source": [
    "test_data_scale = scaler.fit_transform(test_data)"
   ]
  },
  {
   "cell_type": "code",
   "execution_count": 60,
   "metadata": {},
   "outputs": [],
   "source": [
    "# Create input sequences (x) and corresponding target values (y) (i.e. array slicing)\n",
    "x = []\n",
    "y = []\n",
    "\n",
    "for i in range(base_days, test_data_scale.shape[0]):\n",
    "    x.append(test_data_scale[i - base_days:i])\n",
    "    y.append(test_data_scale[i, 0])"
   ]
  },
  {
   "cell_type": "code",
   "execution_count": 61,
   "metadata": {},
   "outputs": [],
   "source": [
    "# Convert arrays to numpy arrays\n",
    "x, y = np.array(x), np.array(y)"
   ]
  },
  {
   "cell_type": "code",
   "execution_count": 62,
   "metadata": {},
   "outputs": [],
   "source": [
    "x = np.reshape(x, (x.shape[0],x.shape[1],1))"
   ]
  },
  {
   "cell_type": "code",
   "execution_count": 63,
   "metadata": {},
   "outputs": [
    {
     "name": "stdout",
     "output_type": "stream",
     "text": [
      "7/7 [==============================] - 1s 118ms/step\n"
     ]
    }
   ],
   "source": [
    "pred = model.predict(x)"
   ]
  },
  {
   "cell_type": "code",
   "execution_count": 74,
   "metadata": {},
   "outputs": [],
   "source": [
    "pred = scaler.inverse_transform(pred)"
   ]
  },
  {
   "cell_type": "code",
   "execution_count": 76,
   "metadata": {},
   "outputs": [
    {
     "data": {
      "text/plain": [
       "array([[55862.055]], dtype=float32)"
      ]
     },
     "execution_count": 76,
     "metadata": {},
     "output_type": "execute_result"
    }
   ],
   "source": [
    "pred "
   ]
  },
  {
   "cell_type": "code",
   "execution_count": 80,
   "metadata": {},
   "outputs": [
    {
     "name": "stdout",
     "output_type": "stream",
     "text": [
      "1/1 [==============================] - 1s 610ms/step\n",
      "1/1 [==============================] - 1s 694ms/step\n",
      "1/1 [==============================] - 1s 633ms/step\n",
      "1/1 [==============================] - 1s 622ms/step\n",
      "1/1 [==============================] - 1s 612ms/step\n",
      "1/1 [==============================] - 1s 621ms/step\n",
      "1/1 [==============================] - 1s 662ms/step\n",
      "1/1 [==============================] - 1s 893ms/step\n",
      "1/1 [==============================] - 1s 940ms/step\n",
      "1/1 [==============================] - 1s 859ms/step\n",
      "1/1 [==============================] - 1s 662ms/step\n",
      "1/1 [==============================] - 1s 655ms/step\n",
      "1/1 [==============================] - 1s 618ms/step\n",
      "1/1 [==============================] - 1s 591ms/step\n",
      "1/1 [==============================] - 1s 612ms/step\n",
      "1/1 [==============================] - 1s 629ms/step\n",
      "1/1 [==============================] - 1s 628ms/step\n",
      "1/1 [==============================] - 1s 622ms/step\n",
      "1/1 [==============================] - 1s 607ms/step\n",
      "1/1 [==============================] - 1s 681ms/step\n",
      "1/1 [==============================] - 1s 881ms/step\n",
      "1/1 [==============================] - 1s 857ms/step\n",
      "1/1 [==============================] - 1s 769ms/step\n",
      "1/1 [==============================] - 1s 679ms/step\n",
      "1/1 [==============================] - 1s 590ms/step\n",
      "1/1 [==============================] - 1s 597ms/step\n",
      "1/1 [==============================] - 1s 610ms/step\n",
      "1/1 [==============================] - 1s 618ms/step\n",
      "1/1 [==============================] - 1s 577ms/step\n",
      "1/1 [==============================] - 1s 596ms/step\n",
      "1/1 [==============================] - 1s 693ms/step\n",
      "1/1 [==============================] - 1s 629ms/step\n",
      "1/1 [==============================] - 1s 622ms/step\n",
      "1/1 [==============================] - 1s 591ms/step\n",
      "1/1 [==============================] - 1s 728ms/step\n",
      "1/1 [==============================] - 1s 642ms/step\n",
      "1/1 [==============================] - 1s 783ms/step\n",
      "1/1 [==============================] - 1s 685ms/step\n",
      "1/1 [==============================] - 1s 918ms/step\n",
      "1/1 [==============================] - 1s 1s/step\n",
      "1/1 [==============================] - 1s 981ms/step\n",
      "1/1 [==============================] - 1s 690ms/step\n",
      "1/1 [==============================] - 1s 595ms/step\n",
      "1/1 [==============================] - 1s 614ms/step\n",
      "1/1 [==============================] - 1s 629ms/step\n",
      "1/1 [==============================] - 1s 660ms/step\n",
      "1/1 [==============================] - 1s 606ms/step\n",
      "1/1 [==============================] - 1s 673ms/step\n",
      "1/1 [==============================] - 1s 641ms/step\n",
      "1/1 [==============================] - 1s 666ms/step\n",
      "1/1 [==============================] - 1s 731ms/step\n",
      "1/1 [==============================] - 1s 623ms/step\n",
      "1/1 [==============================] - 1s 617ms/step\n",
      "1/1 [==============================] - 1s 630ms/step\n",
      "1/1 [==============================] - 1s 635ms/step\n",
      "1/1 [==============================] - 1s 645ms/step\n",
      "1/1 [==============================] - 1s 627ms/step\n",
      "1/1 [==============================] - 1s 627ms/step\n",
      "1/1 [==============================] - 1s 638ms/step\n",
      "1/1 [==============================] - 1s 635ms/step\n",
      "1/1 [==============================] - 1s 620ms/step\n",
      "1/1 [==============================] - 1s 584ms/step\n",
      "1/1 [==============================] - 1s 620ms/step\n",
      "1/1 [==============================] - 1s 599ms/step\n",
      "1/1 [==============================] - 1s 588ms/step\n",
      "1/1 [==============================] - 1s 585ms/step\n",
      "1/1 [==============================] - 1s 588ms/step\n",
      "1/1 [==============================] - 1s 628ms/step\n",
      "1/1 [==============================] - 1s 694ms/step\n",
      "1/1 [==============================] - 1s 580ms/step\n",
      "1/1 [==============================] - 1s 589ms/step\n",
      "1/1 [==============================] - 1s 601ms/step\n",
      "1/1 [==============================] - 1s 656ms/step\n",
      "1/1 [==============================] - 1s 597ms/step\n",
      "1/1 [==============================] - 1s 640ms/step\n",
      "1/1 [==============================] - 1s 646ms/step\n",
      "1/1 [==============================] - 1s 675ms/step\n",
      "1/1 [==============================] - 1s 594ms/step\n",
      "1/1 [==============================] - 1s 611ms/step\n",
      "1/1 [==============================] - 1s 608ms/step\n",
      "1/1 [==============================] - 1s 591ms/step\n",
      "1/1 [==============================] - 1s 609ms/step\n",
      "1/1 [==============================] - 1s 584ms/step\n",
      "1/1 [==============================] - 1s 601ms/step\n",
      "1/1 [==============================] - 1s 587ms/step\n",
      "1/1 [==============================] - 1s 596ms/step\n",
      "1/1 [==============================] - 1s 878ms/step\n",
      "1/1 [==============================] - 1s 1s/step\n",
      "1/1 [==============================] - 1s 621ms/step\n",
      "1/1 [==============================] - 1s 635ms/step\n",
      "1/1 [==============================] - 1s 616ms/step\n",
      "1/1 [==============================] - 1s 669ms/step\n",
      "1/1 [==============================] - 1s 615ms/step\n",
      "1/1 [==============================] - 1s 633ms/step\n",
      "1/1 [==============================] - 1s 635ms/step\n",
      "1/1 [==============================] - 1s 654ms/step\n",
      "1/1 [==============================] - 1s 601ms/step\n",
      "1/1 [==============================] - 1s 625ms/step\n",
      "1/1 [==============================] - 1s 961ms/step\n",
      "1/1 [==============================] - 1s 937ms/step\n",
      "1/1 [==============================] - 1s 615ms/step\n",
      "1/1 [==============================] - 1s 579ms/step\n",
      "1/1 [==============================] - 1s 663ms/step\n",
      "1/1 [==============================] - 1s 601ms/step\n",
      "1/1 [==============================] - 1s 623ms/step\n",
      "1/1 [==============================] - 1s 606ms/step\n",
      "1/1 [==============================] - 1s 605ms/step\n",
      "1/1 [==============================] - 1s 608ms/step\n",
      "1/1 [==============================] - 1s 616ms/step\n",
      "1/1 [==============================] - 1s 591ms/step\n",
      "1/1 [==============================] - 1s 634ms/step\n",
      "1/1 [==============================] - 1s 579ms/step\n",
      "1/1 [==============================] - 1s 609ms/step\n",
      "1/1 [==============================] - 1s 612ms/step\n",
      "1/1 [==============================] - 1s 585ms/step\n",
      "1/1 [==============================] - 1s 618ms/step\n",
      "1/1 [==============================] - 1s 602ms/step\n",
      "1/1 [==============================] - 1s 586ms/step\n",
      "1/1 [==============================] - 1s 599ms/step\n",
      "1/1 [==============================] - 1s 581ms/step\n",
      "1/1 [==============================] - 1s 622ms/step\n",
      "1/1 [==============================] - 1s 592ms/step\n",
      "1/1 [==============================] - 1s 686ms/step\n",
      "1/1 [==============================] - 1s 634ms/step\n",
      "1/1 [==============================] - 1s 591ms/step\n",
      "1/1 [==============================] - 1s 636ms/step\n",
      "1/1 [==============================] - 1s 640ms/step\n",
      "1/1 [==============================] - 1s 591ms/step\n",
      "1/1 [==============================] - 1s 610ms/step\n",
      "1/1 [==============================] - 1s 612ms/step\n",
      "1/1 [==============================] - 1s 596ms/step\n",
      "1/1 [==============================] - 1s 677ms/step\n",
      "1/1 [==============================] - 1s 643ms/step\n",
      "1/1 [==============================] - 1s 615ms/step\n",
      "1/1 [==============================] - 1s 739ms/step\n",
      "1/1 [==============================] - 1s 646ms/step\n",
      "1/1 [==============================] - 1s 649ms/step\n",
      "1/1 [==============================] - 1s 604ms/step\n",
      "1/1 [==============================] - 1s 598ms/step\n",
      "1/1 [==============================] - 1s 735ms/step\n",
      "1/1 [==============================] - 1s 754ms/step\n",
      "1/1 [==============================] - 1s 973ms/step\n",
      "1/1 [==============================] - 1s 642ms/step\n",
      "1/1 [==============================] - 1s 596ms/step\n",
      "1/1 [==============================] - 1s 577ms/step\n"
     ]
    }
   ],
   "source": [
    "#45 days future price prediction \n",
    "f = y\n",
    "F= []\n",
    "future_days = 45\n",
    "for i in range(base_days, len(f)+future_days):\n",
    "    f = f.reshape(-1,1)\n",
    "    inter = [f[-base_days:,0]]\n",
    "    inter = np.array(inter)\n",
    "    inter = np.reshape(inter, (inter.shape[0], inter.shape[1],1))\n",
    "    pred = model.predict(inter)\n",
    "    f = np.append(f ,pred)\n",
    "    F = np.append(F, pred)\n"
   ]
  },
  {
   "cell_type": "code",
   "execution_count": 81,
   "metadata": {},
   "outputs": [],
   "source": [
    "F = np.array(F)\n",
    "F = scaler.inverse_transform(F.reshape(-1,1))"
   ]
  },
  {
   "cell_type": "code",
   "execution_count": 82,
   "metadata": {},
   "outputs": [
    {
     "data": {
      "text/plain": [
       "array([[64247.75188815],\n",
       "       [63904.4240289 ],\n",
       "       [63580.41050395],\n",
       "       [63274.4402576 ],\n",
       "       [62984.77380011],\n",
       "       [62709.8201696 ],\n",
       "       [62448.31116666],\n",
       "       [62199.27564758],\n",
       "       [61961.94526634],\n",
       "       [61735.6145156 ],\n",
       "       [61519.58645694],\n",
       "       [61313.16129564],\n",
       "       [61115.64780589],\n",
       "       [60926.36904342],\n",
       "       [60744.70804634],\n",
       "       [60570.09640997],\n",
       "       [60402.04856246],\n",
       "       [60240.15319588],\n",
       "       [60084.06184103],\n",
       "       [59933.49743633],\n",
       "       [59788.22005216],\n",
       "       [59648.02974717],\n",
       "       [59512.74943045],\n",
       "       [59382.21058   ],\n",
       "       [59256.26466797],\n",
       "       [59134.74888498],\n",
       "       [59017.52327207],\n",
       "       [58904.43358878],\n",
       "       [58795.32845094],\n",
       "       [58690.0593307 ],\n",
       "       [58588.48055651],\n",
       "       [58490.46073832],\n",
       "       [58395.84849198],\n",
       "       [58304.52099638],\n",
       "       [58216.34971778],\n",
       "       [58131.21754769],\n",
       "       [58048.99595237],\n",
       "       [57969.58210486],\n",
       "       [57892.86746556],\n",
       "       [57818.7492075 ],\n",
       "       [57747.1330726 ],\n",
       "       [57677.92194649],\n",
       "       [57611.02728373],\n",
       "       [57546.36910778],\n",
       "       [57483.85601686],\n",
       "       [57423.41945968],\n",
       "       [57364.97945967],\n",
       "       [57308.46175293],\n",
       "       [57253.79778811],\n",
       "       [57200.93043914],\n",
       "       [57149.78829837],\n",
       "       [57100.31138342],\n",
       "       [57052.45399338],\n",
       "       [57006.14472065],\n",
       "       [56961.34072065],\n",
       "       [56917.98772358],\n",
       "       [56876.03431596],\n",
       "       [56835.42908428],\n",
       "       [56796.12918399],\n",
       "       [56758.08891419],\n",
       "       [56721.26828662],\n",
       "       [56685.6187441 ],\n",
       "       [56651.10886727],\n",
       "       [56617.69581155],\n",
       "       [56585.34530128],\n",
       "       [56554.01449189],\n",
       "       [56523.68053295],\n",
       "       [56494.30057987],\n",
       "       [56465.8460696 ],\n",
       "       [56438.29986432],\n",
       "       [56411.63054467],\n",
       "       [56385.80097869],\n",
       "       [56360.78545963],\n",
       "       [56336.54685552],\n",
       "       [56313.06517223],\n",
       "       [56290.30899042],\n",
       "       [56268.25831593],\n",
       "       [56246.89029833],\n",
       "       [56226.18208719],\n",
       "       [56206.11083205],\n",
       "       [56186.65368249],\n",
       "       [56167.79350067],\n",
       "       [56149.51600507],\n",
       "       [56131.79263264],\n",
       "       [56114.61481445],\n",
       "       [56097.95684378],\n",
       "       [56081.8101517 ],\n",
       "       [56066.15188777],\n",
       "       [56050.97062677],\n",
       "       [56036.24923087],\n",
       "       [56021.97913117],\n",
       "       [56008.13747721],\n",
       "       [55994.71855638],\n",
       "       [55981.70237457],\n",
       "       [55969.08036283],\n",
       "       [55956.84395228],\n",
       "       [55944.97600506],\n",
       "       [55933.46509597],\n",
       "       [55922.30551239],\n",
       "       [55911.47726019],\n",
       "       [55900.98033937],\n",
       "       [55890.7976121 ],\n",
       "       [55880.92336576],\n",
       "       [55871.34617515],\n",
       "       [55862.05461503],\n",
       "       [55853.0458291 ],\n",
       "       [55844.30553585],\n",
       "       [55835.82802265],\n",
       "       [55827.6075769 ],\n",
       "       [55819.62991708],\n",
       "       [55811.87219274],\n",
       "       [55804.31440975],\n",
       "       [55796.95656811],\n",
       "       [55789.78438629],\n",
       "       [55782.8007206 ],\n",
       "       [55775.99414582],\n",
       "       [55769.36751825],\n",
       "       [55762.90655637],\n",
       "       [55756.6169728 ],\n",
       "       [55750.4873423 ],\n",
       "       [55744.51480857],\n",
       "       [55738.69080271],\n",
       "       [55733.02389362],\n",
       "       [55727.48837455],\n",
       "       [55722.10423966],\n",
       "       [55716.85435109],\n",
       "       [55711.73585256],\n",
       "       [55706.75731297],\n",
       "       [55701.89873819],\n",
       "       [55697.17155344],\n",
       "       [55692.5643335 ],\n",
       "       [55688.07993467],\n",
       "       [55683.70978804],\n",
       "       [55679.45389361],\n",
       "       [55675.30653877],\n",
       "       [55671.27057983],\n",
       "       [55667.33744786],\n",
       "       [55663.50999918],\n",
       "       [55659.77680857],\n",
       "       [55656.14358863],\n",
       "       [55652.60462675],\n",
       "       [55649.15706663],\n",
       "       [55645.80090827],\n",
       "       [55642.52758276],\n",
       "       [55639.3428027 ]])"
      ]
     },
     "execution_count": 82,
     "metadata": {},
     "output_type": "execute_result"
    }
   ],
   "source": [
    "F"
   ]
  }
 ],
 "metadata": {
  "kernelspec": {
   "display_name": "Tensor_Env",
   "language": "python",
   "name": "python3"
  },
  "language_info": {
   "codemirror_mode": {
    "name": "ipython",
    "version": 3
   },
   "file_extension": ".py",
   "mimetype": "text/x-python",
   "name": "python",
   "nbconvert_exporter": "python",
   "pygments_lexer": "ipython3",
   "version": "3.10.14"
  }
 },
 "nbformat": 4,
 "nbformat_minor": 2
}
